{
 "cells": [
  {
   "cell_type": "markdown",
   "id": "004f6543",
   "metadata": {},
   "source": [
    "prompt design\n"
   ]
  },
  {
   "cell_type": "code",
   "execution_count": 6,
   "id": "aadb74d1",
   "metadata": {},
   "outputs": [],
   "source": [
    "from transformers import pipeline\n",
    "from datetime import datetime\n",
    "import json\n"
   ]
  },
  {
   "cell_type": "code",
   "execution_count": 8,
   "id": "e1e5618e",
   "metadata": {},
   "outputs": [
    {
     "name": "stderr",
     "output_type": "stream",
     "text": [
      "Xet Storage is enabled for this repo, but the 'hf_xet' package is not installed. Falling back to regular HTTP download. For better performance, install the package with: `pip install huggingface_hub[hf_xet]` or `pip install hf_xet`\n",
      "Device set to use cpu\n"
     ]
    }
   ],
   "source": [
    "# Load model\n",
    "llm = pipeline(\n",
    "    \"text2text-generation\",\n",
    "    model=\"google/flan-t5-base\",\n",
    "    max_length=256,\n",
    "    device=-1  # Set to -1 for CPU, or 0 for GPU if available\n",
    ")\n"
   ]
  },
  {
   "cell_type": "code",
   "execution_count": 33,
   "id": "2172e06a",
   "metadata": {},
   "outputs": [],
   "source": [
    "def parse_time_response(response_text: str):\n",
    "    import re\n",
    "\n",
    "    result = {}\n",
    "\n",
    "    # Match common date expressions and short/full month names\n",
    "    date_pattern = r\"\\b(?:\\d{1,2}(?:st|nd|rd|th)?\\s+(?:Jan(?:uary)?|Feb(?:ruary)?|Mar(?:ch)?|Apr(?:il)?|\" \\\n",
    "                   r\"May|Jun(?:e)?|Jul(?:y)?|Aug(?:ust)?|Sep(?:t)?(?:ember)?|Oct(?:ober)?|Nov(?:ember)?|Dec(?:ember)?)|\" \\\n",
    "                   r\"(?:Jan(?:uary)?|Feb(?:ruary)?|Mar(?:ch)?|Apr(?:il)?|May|Jun(?:e)?|Jul(?:y)?|Aug(?:ust)?|\" \\\n",
    "                   r\"Sep(?:t)?(?:ember)?|Oct(?:ober)?|Nov(?:ember)?|Dec(?:ember)?)\\s+\\d{1,2}(?:st|nd|rd|th)?|\" \\\n",
    "                   r\"yesterday|today|tomorrow|last\\s+\\w+|this\\s+\\w+)\\b\"\n",
    "\n",
    "    # Match time-of-day expressions\n",
    "    time_of_day_pattern = r\"\\b(morning|afternoon|evening|night|noon|midnight)\\b\"\n",
    "\n",
    "    # Match time ranges (e.g., 3-4 pm)\n",
    "    time_range_pattern = r\"\\b\\d{1,2}(:\\d{2})?\\s?(am|pm)?\\s?[-–]\\s?\\d{1,2}(:\\d{2})?\\s?(am|pm)?\\b\"\n",
    "\n",
    "    # Match single time (e.g., 9:30 pm or 8)\n",
    "    time_pattern = r\"\\b\\d{1,2}(:\\d{2})?\\s?(am|pm)?\\b\"\n",
    "\n",
    "    # Find matches\n",
    "    date_match = re.search(date_pattern, response_text, re.IGNORECASE)\n",
    "    time_of_day_match = re.search(time_of_day_pattern, response_text, re.IGNORECASE)\n",
    "    time_range_match = re.search(time_range_pattern, response_text, re.IGNORECASE)\n",
    "    time_match = re.search(time_pattern, response_text, re.IGNORECASE)\n",
    "\n",
    "    # Assign date if found\n",
    "    if date_match:\n",
    "        result[\"date\"] = date_match.group().strip()\n",
    "\n",
    "    # Handle time range if found\n",
    "    if time_range_match:\n",
    "        result[\"time_range\"] = time_range_match.group().strip()\n",
    "    elif time_match:\n",
    "        time_str = time_match.group().strip()\n",
    "\n",
    "        # If am/pm not in time, try to infer from time-of-day\n",
    "        if not re.search(r\"\\b(am|pm)\\b\", time_str, re.IGNORECASE) and time_of_day_match:\n",
    "            tod = time_of_day_match.group().lower()\n",
    "            if tod in [\"evening\", \"night\"]:\n",
    "                time_str += \" pm\"\n",
    "            elif tod in [\"morning\"]:\n",
    "                time_str += \" am\"\n",
    "            elif tod == \"noon\":\n",
    "                time_str = \"12:00 pm\"\n",
    "            elif tod == \"midnight\":\n",
    "                time_str = \"12:00 am\"\n",
    "\n",
    "        result[\"time\"] = time_str\n",
    "\n",
    "    if not result:\n",
    "        return {\"error\": \"Could not extract date-time or time\"}\n",
    "\n",
    "    return result\n"
   ]
  },
  {
   "cell_type": "code",
   "execution_count": 34,
   "id": "a5ca6175",
   "metadata": {},
   "outputs": [
    {
     "name": "stdout",
     "output_type": "stream",
     "text": [
      "📤 Raw response: Aug 10 evening around 9:30\n",
      "🗓️ Parsed JSON: {\n",
      "  \"date\": \"Aug 10\",\n",
      "  \"time\": \"10 pm\"\n",
      "}\n"
     ]
    }
   ],
   "source": [
    "prompt = \"Extract the exact datetime or time range from this: Aug 10 evening around 9:30\"\n",
    "response = llm(prompt)[0]['generated_text']\n",
    "print(\"📤 Raw response:\", response)\n",
    "\n",
    "parsed_output = parse_time_response(response)\n",
    "print(\"🗓️ Parsed JSON:\", json.dumps(parsed_output, indent=2))\n"
   ]
  },
  {
   "cell_type": "code",
   "execution_count": null,
   "id": "416e3eb6",
   "metadata": {},
   "outputs": [],
   "source": []
  }
 ],
 "metadata": {
  "kernelspec": {
   "display_name": ".venv",
   "language": "python",
   "name": "python3"
  },
  "language_info": {
   "codemirror_mode": {
    "name": "ipython",
    "version": 3
   },
   "file_extension": ".py",
   "mimetype": "text/x-python",
   "name": "python",
   "nbconvert_exporter": "python",
   "pygments_lexer": "ipython3",
   "version": "3.12.0"
  }
 },
 "nbformat": 4,
 "nbformat_minor": 5
}
